{
 "cells": [
  {
   "cell_type": "markdown",
   "metadata": {},
   "source": [
    "<img src=\"NewYork.jpg\" style=\"height:100px width:250px vertical-align:middle\" />"
   ]
  },
  {
   "cell_type": "markdown",
   "metadata": {},
   "source": [
    "# New York - Population, Venues, Housing Price Analysis\n",
    "\n",
    "### IBM-DataScience-Professional-Certificate course\n",
    "\n",
    "### Arun Leo Prakash\n",
    "#### 18-Jun-2020\n",
    "\n",
    "## Table of Contents\n",
    "<ul>\n",
    "<li><a href=\"#intro\">Introduction</a></li>\n",
    "<li><a href=\"#bizprob\">Business Problem</a></li>\n",
    "<li><a href=\"#data\">Data</a></li>\n",
    "<li><a href=\"#methodology\">Methodology</a></li>\n",
    "<li><a href=\"#references\">References</a></li>\n",
    "</ul>\n"
   ]
  },
  {
   "cell_type": "markdown",
   "metadata": {},
   "source": [
    "<a id='intro'></a>\n",
    "#### Introduction"
   ]
  },
  {
   "cell_type": "markdown",
   "metadata": {},
   "source": [
    "New York City (NYC), often called New York (NY), is the most populous city in the United States. With an estimated 2019 population of **8,336,817** distributed over about **302.6** square miles (784 km2), New York is also the most densely populated major city in the United States.\n",
    "\n",
    "Situated on one of the world's largest natural harbors, New York City is composed of five boroughs, each of which is a county of the State of New York. The five boroughs—Brooklyn, Queens, Manhattan, the Bronx, and Staten Island—were consolidated into a single city in 1898. The city and its metropolitan area constitute the premier gateway for legal immigration to the United States. As many as 800 languages are spoken in New York, making it the most linguistically diverse city in the world. New York is home to more than 3.2 million residents born outside the United States, the largest foreign-born population of any city in the world as of 2016. As of 2019, the New York metropolitan area is estimated to produce a gross metropolitan product (GMP) of $2.0 trillion. If the New York metropolitan area were a sovereign state, it would have the eighth-largest economy in the world. New York is home to the highest number of billionaires of any city in the world."
   ]
  },
  {
   "cell_type": "markdown",
   "metadata": {},
   "source": [
    "<a id='bizprob'></a>\n",
    "#### Business Problem"
   ]
  },
  {
   "cell_type": "markdown",
   "metadata": {},
   "source": [
    "With a population of 8 million, New York is a city with a high population and produces high GMP. Being such a crowded city leads the owners of shops and social sharing places in the city where the population is dense. Business investors expects lower real estate cost, with high density of population and the type of business they want to install is less intense. It is difficult to obtain information that will guide investors in this direction, nowadays.\n",
    "\n",
    "When we consider all these problems, we can create a map and information chart where the real estate index is placed on New York and each district is clustered according to the venue density. This would help the investor to decide the ideal location to run the business based on the factors mentioned above"
   ]
  },
  {
   "cell_type": "markdown",
   "metadata": {},
   "source": [
    "<a id='data'></a>\n",
    "#### Data Description"
   ]
  },
  {
   "cell_type": "markdown",
   "metadata": {},
   "source": [
    "Data requirements includes a. spatial data of new york to build maps with boundaries, b. average sales price per sqm for every borough, c. venue data of the neighborhoods. Venue like coffee shops, entertainment related venues depending on the business requirements would be considered as a baseline parameter.\n",
    "\n",
    "**Data Source**\n",
    "1. Spatial data for NewYork will be downloaded from https://cocl.us/new_york_dataset/newyork_data.json\n",
    "2. Population Data per borough from https://en.wikipedia.org/wiki/New_York_City\n",
    "3. Property sales data to collect average sales price from https://www.kaggle.com/new-york-city/nyc-property-sales\n"
   ]
  },
  {
   "cell_type": "markdown",
   "metadata": {},
   "source": [
    "<a id='method'></a>\n",
    "#### Methodology"
   ]
  },
  {
   "cell_type": "markdown",
   "metadata": {},
   "source": [
    " **Google Map**, ‘Search Nearby’ option to get the center coordinates of the each Borough. **Population data** is captured from wiki page. We will be using **Foursquare API** for Neighborhoods data exploration. The information we want to focus on are shopping venues, coffee shops, and entertainment venues. We will choose top 2 boroughs based on population: **Manhattan & Brooklyn**. We need to apply Neighborhood Segmentation and Clustering to analyzing the neighborhood data and prioritize the best shopping location in both boroughs based on foot traffic and type of venues available. This helps the investor to choose the best place for business investment."
   ]
  },
  {
   "cell_type": "markdown",
   "metadata": {},
   "source": [
    "<a id='references'></a>\n",
    "### References"
   ]
  },
  {
   "cell_type": "markdown",
   "metadata": {},
   "source": [
    "<ul>\n",
    "    <li>https://en.wikipedia.org/wiki/New_York_City</li>\n",
    "    <li>https://www.kaggle.com/new-york-city/nyc-property-sales</li>\n",
    "    <li>https://geo.nyu.edu/catalog/nyu_2451_34572</li>\n",
    "    <li>https://developer.foursquare.com/</li>\n",
    "    <li>https://www.google.com/maps/</li>\n",
    "    <li>http://localhost:8888/notebooks/NewYork.jpg</li>\n",
    "</ul>"
   ]
  }
 ],
 "metadata": {
  "kernelspec": {
   "display_name": "Python 3",
   "language": "python",
   "name": "python3"
  },
  "language_info": {
   "codemirror_mode": {
    "name": "ipython",
    "version": 3
   },
   "file_extension": ".py",
   "mimetype": "text/x-python",
   "name": "python",
   "nbconvert_exporter": "python",
   "pygments_lexer": "ipython3",
   "version": "3.7.3"
  }
 },
 "nbformat": 4,
 "nbformat_minor": 2
}
